{
  "nbformat": 4,
  "nbformat_minor": 0,
  "metadata": {
    "colab": {
      "name": "Untitled2.ipynb",
      "provenance": []
    },
    "kernelspec": {
      "name": "python3",
      "display_name": "Python 3"
    },
    "language_info": {
      "name": "python"
    }
  },
  "cells": [
    {
      "cell_type": "code",
      "execution_count": 7,
      "metadata": {
        "colab": {
          "base_uri": "https://localhost:8080/"
        },
        "id": "z5NlOq-H5vSx",
        "outputId": "79517ca3-a2a7-4510-ef10-6fd829e778d0"
      },
      "outputs": [
        {
          "output_type": "stream",
          "name": "stdout",
          "text": [
            "Introduce tu nombre: Mauricio\n",
            "Hola Mauricio!\n"
          ]
        }
      ],
      "source": [
        "#A2: Ejercicios Básicos en Python, Nombre: Cesar Mauricio Alvarez Olguin, Matricula: 1910330, Hora: Jueves N1-N3\n",
        "#Ejercicio No. 1\n",
        "#Escribir un programa que le pida al usuario su nombre y lo salude con su nombre, excepto si se llama “Ana”, “Juan”, y “Pedro”.\n",
        "\n",
        "a = \"Ana\"\n",
        "b = \"Juan\"\n",
        "c = \"Pedro\"\n",
        "Nombre = input (\"Introduce tu nombre: \")\n",
        "\n",
        "if a == Nombre or b == Nombre or c == Nombre:\n",
        "  print (\"Este nombre no es valido\")\n",
        "else:\n",
        "  print (\"Hola \" + Nombre + \"!\")"
      ]
    },
    {
      "cell_type": "code",
      "source": [
        "#A2: Ejercicios Básicos en Python, Nombre: Cesar Mauricio Alvarez Olguin, Matricula: 1910330, Hora: Jueves N1-N3\n",
        "#Ejercicio No. 2\n",
        "#Escribir una función que regrese el último elemento de una lista y que revierta el orden de la lista y la imprima.\n",
        "\n",
        "import math\n",
        "Lista1 = []\n",
        "def Lista(num):\n",
        "  for i in range(num):\n",
        "    x = int(input (\"Ingrese numero {}: \".format(i+1)))\n",
        "    Lista1.append(x)\n",
        "  return Lista1\n",
        "\n",
        "def intercambiar ():\n",
        "  i = 0\n",
        "  for n in range(math.floor(len(Lista1) / 2)):\n",
        "    i = i - 1\n",
        "    Lista1[n], Lista1[i] = Lista1[i], Lista1[n]\n",
        "  return Lista1\n",
        "\n",
        "print(Lista(8))\n",
        "print(intercambiar())"
      ],
      "metadata": {
        "colab": {
          "base_uri": "https://localhost:8080/"
        },
        "id": "8f_JRo5XGbj1",
        "outputId": "cd3b26e4-bd33-4908-fd40-8d176fd9ee3d"
      },
      "execution_count": 15,
      "outputs": [
        {
          "output_type": "stream",
          "name": "stdout",
          "text": [
            "Ingrese numero 1: 1\n",
            "Ingrese numero 2: 2\n",
            "Ingrese numero 3: 3\n",
            "Ingrese numero 4: 4\n",
            "Ingrese numero 5: 5\n",
            "Ingrese numero 6: 6\n",
            "Ingrese numero 7: 7\n",
            "Ingrese numero 8: 8\n",
            "[1, 2, 3, 4, 5, 6, 7, 8]\n",
            "[8, 7, 6, 5, 4, 3, 2, 1]\n"
          ]
        }
      ]
    },
    {
      "cell_type": "code",
      "source": [
        "#A2: Ejercicios Básicos en Python, Nombre: Cesar Mauricio Alvarez Olguin, Matricula: 1910330, Hora: Jueves N1-N3\n",
        "#Ejercicio No. 3\n",
        "#Escribir una función que toma una lista de strings y los imprima línea por línea en un marco rectangular.\n",
        "a = \"********\"\n",
        "print (a)\n",
        "StarWars = [\"*Luke  *\", \"*yo    *\", \"*soy   *\", \"*tu    *\", \"*padre *\"]\n",
        "for x in StarWars:\n",
        "  print(x)\n",
        "b = \"********\"\n",
        "print (b)"
      ],
      "metadata": {
        "colab": {
          "base_uri": "https://localhost:8080/"
        },
        "id": "N9Htuo3OTB1K",
        "outputId": "12314e2b-4262-407b-8914-9d9781824aaf"
      },
      "execution_count": 14,
      "outputs": [
        {
          "output_type": "stream",
          "name": "stdout",
          "text": [
            "********\n",
            "*Luke  *\n",
            "*yo    *\n",
            "*soy   *\n",
            "*tu    *\n",
            "*padre *\n",
            "********\n"
          ]
        }
      ]
    }
  ]
}